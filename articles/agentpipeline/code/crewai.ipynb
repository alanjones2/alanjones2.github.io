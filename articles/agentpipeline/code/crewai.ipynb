{
 "cells": [
  {
   "cell_type": "code",
   "execution_count": 1,
   "metadata": {},
   "outputs": [],
   "source": [
    "from crewai import Agent, Task, Crew\n",
    "\n",
    "import os\n",
    "\n",
    "# OpenAI\n",
<<<<<<< HEAD
    "os.environ[\"OPENAI_API_KEY\"] = \"your api key\"\n",
=======
    "os.environ[\"OPENAI_API_KEY\"] = \"your api key here\"\n",
>>>>>>> c8b9cb2 (update)
    "llm = \"gpt-4o\""
   ]
  },
  {
   "cell_type": "code",
   "execution_count": 2,
   "metadata": {},
   "outputs": [],
   "source": [
    "from crewai_tools import tool\n",
    "import wikipedia\n",
    "\n",
    "@tool(\"wikipedia_lookup\")\n",
    "def wikipedia_lookup(q: str) -> str:\n",
    "    \"\"\"Look up a query in Wikipedia and return the result\"\"\"\n",
    "    return wikipedia.page(q).summary"
   ]
  },
  {
   "cell_type": "code",
   "execution_count": 3,
   "metadata": {},
   "outputs": [],
   "source": [
    "# Define the agent\n",
    "researcher_agent = Agent(\n",
    "        role=\"Researcher\",\n",
    "        goal=\"You research topics using Wikipedia and report on the results\",\n",
    "        backstory=\"You are an experienced writer and editor\",\n",
    "        tools=[wikipedia_lookup],\n",
    "        allow_delegation=False,\n",
    "        llm=llm\n",
    "    )\n"
   ]
  },
  {
   "cell_type": "code",
   "execution_count": 4,
   "metadata": {},
   "outputs": [],
   "source": [
    "query = \"What is the EU's largest city\""
   ]
  },
  {
   "cell_type": "code",
   "execution_count": 5,
   "metadata": {},
   "outputs": [
    {
     "name": "stdout",
     "output_type": "stream",
     "text": [
      "\u001b[1m\u001b[95m# Agent:\u001b[00m \u001b[1m\u001b[92mResearcher\u001b[00m\n",
      "\u001b[95m## Task:\u001b[00m \u001b[92mWhat is the EU's largest city\u001b[00m\n",
      "\n",
      "\n",
      "\u001b[1m\u001b[95m# Agent:\u001b[00m \u001b[1m\u001b[92mResearcher\u001b[00m\n",
      "\u001b[95m## Thought:\u001b[00m \u001b[92mI need to look up information about the largest city in the European Union (EU).\u001b[00m\n",
      "\u001b[95m## Using tool:\u001b[00m \u001b[92mwikipedia_lookup\u001b[00m\n",
      "\u001b[95m## Tool Input:\u001b[00m \u001b[92m\n",
      "{\n",
      "  \"q\": \"Largest city in the European Union\"\n",
      "}\u001b[00m\n",
      "\u001b[95m## Tool Output:\u001b[00m \u001b[92m\n",
      "This is a list of the largest cities in the European Union according to the population within their city boundary. The cities listed all have populations over 300,000. The list deals exclusively with the areas within city administrative boundaries as opposed to urban areas or larger urban zones (metropolitan areas), which are generally larger in terms of population than the main city (although they can also be smaller, in some of the cases presented).\n",
      "As some cities have a very narrow boundary and others a very wide one, the list may not give an accurate view of the comparative magnitude of entire urban areas, and thus the figures in the list should be treated with caution. For example Paris is the most populous urban area in the European Union; however, the city proper of the French capital has a lower population than top-ranked Berlin and a couple of other cities, as shown in the table. Likewise the City of Brussels is only one of a total of 19 municipalities making up the greater Brussels Capital Region, and by itself does not reach the population threshold to be listed here. On the other hand, the Municipality of Sintra, listed on the table as the second most populous Portuguese city includes in it the cities of Agualva-Cacém and Queluz, in addition to the town of Sintra and other urban centers.\n",
      "\n",
      "\u001b[00m\n",
      "\n",
      "\n",
      "\u001b[1m\u001b[95m# Agent:\u001b[00m \u001b[1m\u001b[92mResearcher\u001b[00m\n",
      "\u001b[95m## Final Answer:\u001b[00m \u001b[92m\n",
      "Berlin is the largest city in the European Union in terms of population within city administrative boundaries.\u001b[00m\n",
      "Task Description: What is the EU's largest city\n",
      "Task Summary: What is the EU's largest city...\n",
      "Raw Output: Berlin is the largest city in the European Union in terms of population within city administrative boundaries.\n"
     ]
    }
   ],
   "source": [
    "task1 = Task(\n",
    "    description=query,\n",
    "    expected_output='A short text based on the tool output.',\n",
    "    agent=researcher_agent,\n",
    "    tools=[wikipedia_lookup]\n",
    ")\n",
    "\n",
    "# Define the crew\n",
    "crew = Crew(\n",
    "    agents=[researcher_agent],\n",
    "    tasks=[task1],\n",
    "    verbose=True\n",
    ")\n",
    "\n",
    "result = crew.kickoff()\n",
    "\n",
    "# Accessing the task output\n",
    "task_output = task1.output\n",
    "\n",
    "print(f\"Task Description: {task_output.description}\")\n",
    "print(f\"Task Summary: {task_output.summary}\")\n",
    "print(f\"Raw Output: {task_output.raw}\")"
   ]
  },
  {
   "cell_type": "code",
   "execution_count": 6,
   "metadata": {},
   "outputs": [
    {
     "data": {
      "text/plain": [
       "'Berlin is the largest city in the European Union in terms of population within city administrative boundaries.'"
      ]
     },
     "execution_count": 6,
     "metadata": {},
     "output_type": "execute_result"
    }
   ],
   "source": [
    "result.raw"
   ]
  }
 ],
 "metadata": {
  "kernelspec": {
   "display_name": "Python 3",
   "language": "python",
   "name": "python3"
  },
  "language_info": {
   "codemirror_mode": {
    "name": "ipython",
    "version": 3
   },
   "file_extension": ".py",
   "mimetype": "text/x-python",
   "name": "python",
   "nbconvert_exporter": "python",
   "pygments_lexer": "ipython3",
   "version": "3.10.14"
  }
 },
 "nbformat": 4,
 "nbformat_minor": 2
}
